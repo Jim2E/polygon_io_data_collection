{
 "cells": [
  {
   "cell_type": "code",
   "execution_count": 22,
   "metadata": {},
   "outputs": [
    {
     "data": {
      "text/plain": [
       "<polygon.rest.RESTClient at 0x7fefc81a52e0>"
      ]
     },
     "execution_count": 22,
     "metadata": {},
     "output_type": "execute_result"
    }
   ],
   "source": [
    "from polygon import RESTClient\n",
    "import local_settings as settings #api key file\n",
    "import pandas as pd\n",
    "import plotly.graph_objects as go\n",
    "import plotly.express as px\n",
    "import numpy as np\n",
    "import requests\n",
    "import json\n",
    "import time\n",
    "import os\n",
    "import glob\n",
    "import seaborn as sn\n",
    "from matplotlib.pyplot import figure\n",
    "from plotly.subplots import make_subplots\n",
    "from datetime import date\n",
    "\n",
    "pairs = sorted(['AAVEUSD','ADAUSD','ALGOUSD','BCHUSD','BTCUSD','COMPUSD','DOGEUSD','DOTUSD','ENJUSD','ETCUSD',\n",
    "'ETHUSD','GRTUSD','LINKUSD','LTCUSD','MANAUSD','MKRUSD','OMGUSD','UNIUSD','SANDUSD','SOLUSD','SNXUSD','XLMUSD',\n",
    "'XMRUSD','XRPUSD','YFIUSD','ZECUSD'])\n",
    "\n",
    "project_dir = '/Users/csingh/Documents/Projects/Quant/polygonIO'\n",
    "csv_dir = '1m_data'\n",
    "\n",
    "api_key = settings.polygon['api_key']\n",
    "client = RESTClient(api_key)\n",
    "client"
   ]
  },
  {
   "attachments": {},
   "cell_type": "markdown",
   "metadata": {},
   "source": [
    "___"
   ]
  },
  {
   "attachments": {},
   "cell_type": "markdown",
   "metadata": {},
   "source": [
    "#### Get OHLCV data from API(function) & create CSVs"
   ]
  },
  {
   "cell_type": "code",
   "execution_count": 18,
   "metadata": {},
   "outputs": [],
   "source": [
    "def coin_data(pair, ds, de = '2025-01-15', multiplier = '1', timespan = 'minute'): \n",
    "    date_start = ds #only goes back to 2 years, but this works for getting earliest\n",
    "    date_end = de\n",
    "    coin = pair\n",
    "    date_spans = {}\n",
    "    latest_added = date_start\n",
    "    bdf = pd.DataFrame()\n",
    "\n",
    "    while date_start not in date_spans:\n",
    "\n",
    "        date_spans[date_start] = 0\n",
    "        url = f'https://api.polygon.io/v2/aggs/ticker/X:{coin}/range/{multiplier}/{timespan}/{date_start}/{date_end}?limit=50000&apiKey={api_key}'\n",
    "        response = requests.get(url)\n",
    "\n",
    "        if response.status_code == 200:  # check if response from server is good\n",
    "                df = pd.DataFrame(json.loads(response.text)['results'])\n",
    "                df.rename(columns = {'v':'Volume','vw':'Volume Weighted','o':'Open','c':'Close','h':'High','l':'Low','t':'Time'}, inplace = True)\n",
    "                df['Time'] = pd.to_datetime(df['Time'],unit='ms')\n",
    "\n",
    "                bdf = pd.concat([bdf, df], ignore_index=True)\n",
    "\n",
    "                if df is None:\n",
    "                    print(\"Did not return any data from polygon.io for this symbol\")\n",
    "        else:\n",
    "            print(\"Did not receieve OK response from polygon.io API\")\n",
    "\n",
    "        latest_added = str(bdf.loc[bdf.index[-1],'Time'])[0:10]\n",
    "        date_start = latest_added\n",
    "        time.sleep(13) # ONLY 5 calls/min\n",
    "\n",
    "    bdf.drop_duplicates(subset='Time',keep=\"first\", inplace=True)\n",
    "    t1 = bdf.loc[bdf.index[0],'Time']\n",
    "    t2 = bdf.loc[bdf.index[-1],'Time']\n",
    "    bdf = bdf.loc[:,['Volume','Volume Weighted','Open','Close','High','Low','Time','n']]\n",
    "    print(f'Pair:{coin}\\tStart:\\t{t1}\\tEnd:\\t{t2}\\tShape:\\t{bdf.shape}')\n",
    "    #ONLY UNCOMMENT WHEN GETTING NEW DATASET\n",
    "    # bdf.to_csv( f'{project_dir}/1m_data_new/{coin}_{str(bdf.iloc[0,6])[0:10]}_to_{str(bdf.iloc[-1,6])[0:10]}_{multiplier}{timespan[0]}_data.csv', index=False)\n",
    "    return bdf"
   ]
  },
  {
   "attachments": {},
   "cell_type": "markdown",
   "metadata": {},
   "source": [
    "----"
   ]
  },
  {
   "attachments": {},
   "cell_type": "markdown",
   "metadata": {},
   "source": [
    "#### Obtaining all OHLC data in 'pairs' (DON'T RUN UNLESS you need a new dataset...can take some time depending on timeframe)"
   ]
  },
  {
   "cell_type": "code",
   "execution_count": null,
   "metadata": {},
   "outputs": [],
   "source": [
    "pairs_df = []\n",
    "for pair in pairs:\n",
    "    sdf = coin_data(pair,ds='2021-01-20')\n",
    "    pairs_df.append(sdf)"
   ]
  },
  {
   "attachments": {},
   "cell_type": "markdown",
   "metadata": {},
   "source": [
    "---"
   ]
  },
  {
   "attachments": {},
   "cell_type": "markdown",
   "metadata": {},
   "source": [
    "#### Reloading CSVs from folder"
   ]
  },
  {
   "cell_type": "code",
   "execution_count": 23,
   "metadata": {},
   "outputs": [
    {
     "name": "stdout",
     "output_type": "stream",
     "text": [
      "AAVEUSD_2021-01-23_to_2023-01-30_1minute_data.csv \tPair:AAVEUSD \t Start:\t2021-01-23 14:49:00 \t End:\t2023-01-30 23:58:00 \t Shape:(1027915, 8) \tloaded!\n",
      "ADAUSD_2021-01-23_to_2023-01-30_1minute_data.csv \tPair:ADAUSD \t Start:\t2021-01-23 14:55:00 \t End:\t2023-01-30 23:58:00 \t Shape:(1061314, 8) \tloaded!\n",
      "ALGOUSD_2021-01-23_to_2023-01-30_1minute_data.csv \tPair:ALGOUSD \t Start:\t2021-01-23 15:00:00 \t End:\t2023-01-30 23:58:00 \t Shape:(1061273, 8) \tloaded!\n",
      "BCHUSD_2021-01-23_to_2023-01-30_1minute_data.csv \tPair:BCHUSD \t Start:\t2021-01-23 15:06:00 \t End:\t2023-01-30 23:58:00 \t Shape:(1049067, 8) \tloaded!\n",
      "BTCUSD_2021-01-23_to_2023-01-30_1minute_data.csv \tPair:BTCUSD \t Start:\t2021-01-23 15:12:00 \t End:\t2023-01-30 23:58:00 \t Shape:(1063244, 8) \tloaded!\n",
      "COMPUSD_2021-01-23_to_2023-01-30_1minute_data.csv \tPair:COMPUSD \t Start:\t2021-01-23 15:17:00 \t End:\t2023-01-30 23:58:00 \t Shape:(989998, 8) \tloaded!\n",
      "DOGEUSD_2021-01-23_to_2023-01-30_1minute_data.csv \tPair:DOGEUSD \t Start:\t2021-01-23 15:23:00 \t End:\t2023-01-30 23:58:00 \t Shape:(1057755, 8) \tloaded!\n",
      "DOTUSD_2021-01-23_to_2023-01-30_1minute_data.csv \tPair:DOTUSD \t Start:\t2021-01-23 15:28:00 \t End:\t2023-01-30 23:58:00 \t Shape:(1000480, 8) \tloaded!\n",
      "ENJUSD_2021-01-23_to_2023-01-30_1minute_data.csv \tPair:ENJUSD \t Start:\t2021-01-23 15:38:00 \t End:\t2023-01-30 23:55:00 \t Shape:(869173, 8) \tloaded!\n",
      "ETCUSD_2021-01-23_to_2023-01-30_1minute_data.csv \tPair:ETCUSD \t Start:\t2021-01-23 15:38:00 \t End:\t2023-01-30 23:58:00 \t Shape:(1014420, 8) \tloaded!\n",
      "ETHUSD_2021-01-23_to_2023-01-30_1minute_data.csv \tPair:ETHUSD \t Start:\t2021-01-23 15:44:00 \t End:\t2023-01-30 23:58:00 \t Shape:(1062320, 8) \tloaded!\n",
      "GRTUSD_2021-01-23_to_2023-01-30_1minute_data.csv \tPair:GRTUSD \t Start:\t2021-01-23 15:49:00 \t End:\t2023-01-30 23:58:00 \t Shape:(1055655, 8) \tloaded!\n",
      "LINKUSD_2021-01-23_to_2023-01-30_1minute_data.csv \tPair:LINKUSD \t Start:\t2021-01-23 15:55:00 \t End:\t2023-01-30 23:58:00 \t Shape:(1059892, 8) \tloaded!\n",
      "LTCUSD_2021-01-23_to_2023-01-30_1minute_data.csv \tPair:LTCUSD \t Start:\t2021-01-23 16:01:00 \t End:\t2023-01-30 23:58:00 \t Shape:(1060348, 8) \tloaded!\n",
      "MANAUSD_2021-01-23_to_2023-01-30_1minute_data.csv \tPair:MANAUSD \t Start:\t2021-01-23 16:07:00 \t End:\t2023-01-30 23:58:00 \t Shape:(1009040, 8) \tloaded!\n",
      "MKRUSD_2021-01-23_to_2023-01-30_1minute_data.csv \tPair:MKRUSD \t Start:\t2021-01-23 16:12:00 \t End:\t2023-01-30 23:58:00 \t Shape:(965331, 8) \tloaded!\n",
      "OMGUSD_2021-01-23_to_2023-01-30_1minute_data.csv \tPair:OMGUSD \t Start:\t2021-01-23 16:18:00 \t End:\t2023-01-30 23:57:00 \t Shape:(865958, 8) \tloaded!\n",
      "SANDUSD_2022-05-11_to_2023-01-30_1minute_data.csv \tPair:SANDUSD \t Start:\t2022-05-11 10:11:00 \t End:\t2023-01-30 23:58:00 \t Shape:(337771, 8) \tloaded!\n",
      "SNXUSD_2021-01-23_to_2023-01-30_1minute_data.csv \tPair:SNXUSD \t Start:\t2021-01-23 16:25:00 \t End:\t2023-01-30 23:56:00 \t Shape:(934260, 8) \tloaded!\n",
      "SOLUSD_2021-02-25_to_2023-01-30_1minute_data.csv \tPair:SOLUSD \t Start:\t2021-02-25 09:40:00 \t End:\t2023-01-30 23:58:00 \t Shape:(923378, 8) \tloaded!\n",
      "UNIUSD_2021-01-23_to_2023-01-30_1minute_data.csv \tPair:UNIUSD \t Start:\t2021-01-23 16:35:00 \t End:\t2023-01-30 23:58:00 \t Shape:(1032647, 8) \tloaded!\n",
      "XLMUSD_2021-01-23_to_2023-01-30_1minute_data.csv \tPair:XLMUSD \t Start:\t2021-01-23 16:41:00 \t End:\t2023-01-30 23:58:00 \t Shape:(1055772, 8) \tloaded!\n",
      "XMRUSD_2021-01-23_to_2023-01-30_1minute_data.csv \tPair:XMRUSD \t Start:\t2021-01-23 16:48:00 \t End:\t2023-01-30 23:56:00 \t Shape:(729143, 8) \tloaded!\n",
      "XRPUSD_2021-01-23_to_2023-01-30_1minute_data.csv \tPair:XRPUSD \t Start:\t2021-01-23 16:51:00 \t End:\t2023-01-30 23:58:00 \t Shape:(1002625, 8) \tloaded!\n",
      "YFIUSD_2021-01-23_to_2023-01-30_1minute_data.csv \tPair:YFIUSD \t Start:\t2021-01-23 16:58:00 \t End:\t2023-01-30 23:58:00 \t Shape:(968156, 8) \tloaded!\n",
      "ZECUSD_2021-01-23_to_2023-01-30_1minute_data.csv \tPair:ZECUSD \t Start:\t2021-01-23 17:02:00 \t End:\t2023-01-30 23:58:00 \t Shape:(940988, 8) \tloaded!\n"
     ]
    }
   ],
   "source": [
    "dir_name = f\"{project_dir}/{csv_dir}\"\n",
    "pairs_df = []\n",
    "for file in np.sort(os.listdir(dir_name)):\n",
    "    if '.csv' in file:\n",
    "        df = pd.DataFrame(pd.read_csv(f'{dir_name}/{file}',header=0))\n",
    "        df_name = file.split('_')[0]\n",
    "        pairs_df.append(df)\n",
    "        print(f'{file} \\tPair:{df_name} \\t Start:\\t{df.loc[0,\"Time\"]} \\t End:\\t{df.loc[df.shape[0]-1,\"Time\"]} \\t Shape:{df.shape} \\tloaded!')"
   ]
  },
  {
   "attachments": {},
   "cell_type": "markdown",
   "metadata": {},
   "source": [
    "---"
   ]
  },
  {
   "attachments": {},
   "cell_type": "markdown",
   "metadata": {},
   "source": [
    "#### Updating pre-existing datasets with newer data"
   ]
  },
  {
   "cell_type": "code",
   "execution_count": null,
   "metadata": {},
   "outputs": [],
   "source": [
    "dir_name_old = \"/Users/csingh/Documents/Projects/Quant/polygonIO/1m_data_new\"\n",
    "dir_name_new = \"/Users/csingh/Documents/Projects/Quant/polygonIO/1m_data\"\n",
    "multiplier = '1'\n",
    "timespan = 'minute'\n",
    "\n",
    "for file in np.sort(os.listdir(dir_name_old)):\n",
    "    if '.csv' in file:\n",
    "        df = pd.DataFrame(pd.read_csv(f'{dir_name_old}/{file}',header=0))\n",
    "        csv_pair = file.split('_')[0] #coin name ex.) BTC_USD\n",
    "        print(f'{file} \\t loaded!')\n",
    "        last_date = df.loc[df.index[-1],'Time'][0:10]\n",
    "        update_df = coin_data(csv_pair, last_date, str(date.today()),'1','minute')\n",
    "        ndf = pd.concat([df,update_df]).drop_duplicates(subset='Time',keep='first').reset_index(drop=True)\n",
    "        s = str(ndf.loc[ndf.index[0],'Time'])[0:10]\n",
    "        e = str(ndf.loc[ndf.index[-1],'Time'])[0:10]\n",
    "        ndf.to_csv( f'{dir_name_new}/{csv_pair}_{s}_to_{e}_{multiplier}{timespan}_data.csv', index=False)\n",
    "        print(f'-----------------------------------------------------------------------------------------')\n"
   ]
  },
  {
   "attachments": {},
   "cell_type": "markdown",
   "metadata": {},
   "source": [
    "---"
   ]
  }
 ],
 "metadata": {
  "kernelspec": {
   "display_name": "base",
   "language": "python",
   "name": "python3"
  },
  "language_info": {
   "codemirror_mode": {
    "name": "ipython",
    "version": 3
   },
   "file_extension": ".py",
   "mimetype": "text/x-python",
   "name": "python",
   "nbconvert_exporter": "python",
   "pygments_lexer": "ipython3",
   "version": "3.9.12"
  },
  "orig_nbformat": 4,
  "vscode": {
   "interpreter": {
    "hash": "968ce73274dc0f8d35bc09d63dbcd009c09f848bcba290c7e3eb3c0633c13d67"
   }
  }
 },
 "nbformat": 4,
 "nbformat_minor": 2
}
